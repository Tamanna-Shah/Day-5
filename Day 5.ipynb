{
 "cells": [
  {
   "cell_type": "code",
   "execution_count": 7,
   "id": "62d95ebe",
   "metadata": {},
   "outputs": [],
   "source": [
    "students=['mayuri','Rutuja', \"Penny\",'Themso','Sagar']"
   ]
  },
  {
   "cell_type": "code",
   "execution_count": 8,
   "id": "dcc9bb5b",
   "metadata": {},
   "outputs": [
    {
     "name": "stdout",
     "output_type": "stream",
     "text": [
      "['mayuri', 'Rutuja', 'Penny', 'Themso', 'Sagar']\n"
     ]
    }
   ],
   "source": [
    "print(students)"
   ]
  },
  {
   "cell_type": "code",
   "execution_count": 11,
   "id": "b7b420a2",
   "metadata": {},
   "outputs": [
    {
     "name": "stdout",
     "output_type": "stream",
     "text": [
      "['mayuri', 'Rutuja', 'Penny', 'Themso', 'Sagar']\n"
     ]
    }
   ],
   "source": [
    "print(students)"
   ]
  },
  {
   "cell_type": "code",
   "execution_count": 13,
   "id": "af3f00fb",
   "metadata": {},
   "outputs": [],
   "source": [
    "students.append('drushti')"
   ]
  },
  {
   "cell_type": "code",
   "execution_count": 14,
   "id": "2d81b07e",
   "metadata": {},
   "outputs": [
    {
     "name": "stdout",
     "output_type": "stream",
     "text": [
      "['mayuri', 'Rutuja', 'Penny', 'Themso', 'Sagar', 'drushti']\n"
     ]
    }
   ],
   "source": [
    "print(students)"
   ]
  },
  {
   "cell_type": "code",
   "execution_count": 22,
   "id": "4786f227",
   "metadata": {},
   "outputs": [],
   "source": [
    "students.insert (1,'rahul')"
   ]
  },
  {
   "cell_type": "code",
   "execution_count": 26,
   "id": "abfe00d3",
   "metadata": {},
   "outputs": [
    {
     "name": "stdout",
     "output_type": "stream",
     "text": [
      "['mayuri', 'rahul', 'rahul', 'rahul', 'Rutuja', 'Penny', 'Themso', 'Sagar', 'drushti']\n"
     ]
    }
   ],
   "source": [
    "print(students)"
   ]
  },
  {
   "cell_type": "code",
   "execution_count": 27,
   "id": "cbb3411d",
   "metadata": {},
   "outputs": [
    {
     "name": "stdout",
     "output_type": "stream",
     "text": [
      "['mayuri', 'rahul', 'rahul', 'rahul', 'Rutuja', 'Penny', 'Themso', 'Sagar', 'drushti']\n"
     ]
    }
   ],
   "source": [
    "print (students)"
   ]
  },
  {
   "cell_type": "code",
   "execution_count": 28,
   "id": "06f44212",
   "metadata": {},
   "outputs": [],
   "source": [
    "students.insert (2,'swati')"
   ]
  },
  {
   "cell_type": "code",
   "execution_count": 29,
   "id": "97d40c65",
   "metadata": {},
   "outputs": [
    {
     "name": "stdout",
     "output_type": "stream",
     "text": [
      "['mayuri', 'rahul', 'swati', 'rahul', 'rahul', 'Rutuja', 'Penny', 'Themso', 'Sagar', 'drushti']\n"
     ]
    }
   ],
   "source": [
    "print(students)"
   ]
  },
  {
   "cell_type": "code",
   "execution_count": 30,
   "id": "3c55f023",
   "metadata": {},
   "outputs": [
    {
     "name": "stdout",
     "output_type": "stream",
     "text": [
      "swati\n"
     ]
    }
   ],
   "source": [
    "print(students[2])"
   ]
  },
  {
   "cell_type": "code",
   "execution_count": 31,
   "id": "33cdb950",
   "metadata": {},
   "outputs": [
    {
     "name": "stdout",
     "output_type": "stream",
     "text": [
      "Swati\n"
     ]
    }
   ],
   "source": [
    "print(students[2].title())"
   ]
  },
  {
   "cell_type": "code",
   "execution_count": 32,
   "id": "48adc004",
   "metadata": {},
   "outputs": [],
   "source": [
    "del students[0]"
   ]
  },
  {
   "cell_type": "code",
   "execution_count": 33,
   "id": "67d82f82",
   "metadata": {},
   "outputs": [
    {
     "name": "stdout",
     "output_type": "stream",
     "text": [
      "['rahul', 'swati', 'rahul', 'rahul', 'Rutuja', 'Penny', 'Themso', 'Sagar', 'drushti']\n"
     ]
    }
   ],
   "source": [
    "print(students)"
   ]
  },
  {
   "cell_type": "code",
   "execution_count": 36,
   "id": "4fa390e5",
   "metadata": {},
   "outputs": [
    {
     "name": "stdout",
     "output_type": "stream",
     "text": [
      "['rahul', 'swati', 'rahul', 'rahul', 'Rutuja', 'Penny', 'Themso', 'Sagar', 'drushti']\n"
     ]
    }
   ],
   "source": [
    "print (x)"
   ]
  },
  {
   "cell_type": "code",
   "execution_count": 37,
   "id": "aa52a9be",
   "metadata": {},
   "outputs": [],
   "source": [
    "x=(students)"
   ]
  },
  {
   "cell_type": "code",
   "execution_count": 38,
   "id": "442769c6",
   "metadata": {},
   "outputs": [],
   "source": [
    "x=students.pop()"
   ]
  },
  {
   "cell_type": "code",
   "execution_count": 39,
   "id": "3c48e33e",
   "metadata": {},
   "outputs": [
    {
     "name": "stdout",
     "output_type": "stream",
     "text": [
      "drushti\n"
     ]
    }
   ],
   "source": [
    "print(x)"
   ]
  },
  {
   "cell_type": "code",
   "execution_count": 40,
   "id": "78f56bab",
   "metadata": {},
   "outputs": [],
   "source": [
    "y=students.pop(2)"
   ]
  },
  {
   "cell_type": "code",
   "execution_count": 41,
   "id": "d984896d",
   "metadata": {},
   "outputs": [
    {
     "name": "stdout",
     "output_type": "stream",
     "text": [
      "rahul\n"
     ]
    }
   ],
   "source": [
    "print(y)"
   ]
  },
  {
   "cell_type": "code",
   "execution_count": null,
   "id": "122e55ef",
   "metadata": {},
   "outputs": [],
   "source": []
  },
  {
   "cell_type": "code",
   "execution_count": null,
   "id": "637f7b78",
   "metadata": {},
   "outputs": [],
   "source": []
  }
 ],
 "metadata": {
  "kernelspec": {
   "display_name": "Python 3 (ipykernel)",
   "language": "python",
   "name": "python3"
  },
  "language_info": {
   "codemirror_mode": {
    "name": "ipython",
    "version": 3
   },
   "file_extension": ".py",
   "mimetype": "text/x-python",
   "name": "python",
   "nbconvert_exporter": "python",
   "pygments_lexer": "ipython3",
   "version": "3.9.12"
  }
 },
 "nbformat": 4,
 "nbformat_minor": 5
}
